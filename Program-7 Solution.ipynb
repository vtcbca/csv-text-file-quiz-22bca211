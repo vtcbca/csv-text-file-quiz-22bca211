{
 "cells": [
  {
   "cell_type": "code",
   "execution_count": 1,
   "id": "f8e9804d",
   "metadata": {},
   "outputs": [],
   "source": [
    "import csv"
   ]
  },
  {
   "cell_type": "code",
   "execution_count": 25,
   "id": "6b7fa539",
   "metadata": {},
   "outputs": [],
   "source": [
    "with open(\"Introduction.txt\", \"w\") as file:\n",
    "    file.write(\" 1.My Name Is Jenil. \\n\")\n",
    "    file.write(\" 2.My Father Name Is Rakeshbhai. \\n\")\n",
    "    file.write(\" 3.My Mother Name Is Rekhaben. \\n\")\n",
    "    file.write(\" 4.My Sister Name Is Priyanka. \\n\")\n",
    "    file.write(\" 5.My Brother Name Is Yash. \\n\")\n",
    "    file.write(\" 6.My Hobby Is Gaming. \\n\")\n",
    "    file.write(\" 7.Im IT Student. \\n\")\n",
    "    file.write(\" 8.Im Study In Vidyabharti Umrakh.\\n\") \n",
    "    file.write(\" 9.My Favourit Color Is Blue.\\n\")\n",
    "    file.write(\" 10.Big Fan Of Hanuman.\\n\")\n",
    "    file.write(\" 11.Self Reaspect Is Most Important \\n\")"
   ]
  },
  {
   "cell_type": "code",
   "execution_count": 26,
   "id": "649aa8b3",
   "metadata": {},
   "outputs": [
    {
     "name": "stdout",
     "output_type": "stream",
     "text": [
      "2.My Father Name Is Rakeshbhai.\n",
      "5.My Brother Name Is Yash.\n",
      "8.Im Study In Vidyabharti Umrakh.\n",
      "11.Self Reaspect Is Most Important\n"
     ]
    }
   ],
   "source": [
    "with open(\"Introduction.txt\", \"r\") as file:\n",
    "    lines = file.readlines()\n",
    "    for i, line in enumerate(lines):\n",
    "        if i % 3==1: \n",
    "            print(line.strip()) "
   ]
  },
  {
   "cell_type": "code",
   "execution_count": null,
   "id": "c99d89d0",
   "metadata": {},
   "outputs": [],
   "source": []
  }
 ],
 "metadata": {
  "kernelspec": {
   "display_name": "Python 3 (ipykernel)",
   "language": "python",
   "name": "python3"
  },
  "language_info": {
   "codemirror_mode": {
    "name": "ipython",
    "version": 3
   },
   "file_extension": ".py",
   "mimetype": "text/x-python",
   "name": "python",
   "nbconvert_exporter": "python",
   "pygments_lexer": "ipython3",
   "version": "3.11.4"
  }
 },
 "nbformat": 4,
 "nbformat_minor": 5
}
